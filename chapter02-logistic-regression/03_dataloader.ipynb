{
 "cells": [
  {
   "cell_type": "markdown",
   "id": "b2de1415",
   "metadata": {},
   "source": [
    "# Dataset和DataLoader\n",
    "数据处理是非常重要的一环，PyTorch提供这两个类来帮助用户高效地加载和处理数据。\n",
    "\n",
    "Dataset负责数据的读取和预处理，而DataLoader则负责将数据分成小批量，支持多线程加速，以及数据的打乱等"
   ]
  },
  {
   "cell_type": "code",
   "execution_count": 2,
   "id": "adf1e9ad",
   "metadata": {},
   "outputs": [],
   "source": [
    "from torch.utils.data import Dataset\n",
    "import pandas as pd\n",
    "import torch\n",
    "\n",
    "\n",
    "class TitanicDataset(Dataset):\n",
    "    def __init__(self, file_path):\n",
    "        self.file_path = file_path\n",
    "        self.mean = {\n",
    "            \"Pclass\": 2.236695,\n",
    "            \"Age\": 29.699118,\n",
    "            \"SibSp\": 0.512605,\n",
    "            \"Parch\": 0.431373,\n",
    "            \"Fare\": 34.694514,\n",
    "            \"Sex_female\": 0.365546,\n",
    "            \"Sex_male\": 0.634454,\n",
    "            \"Embarked_C\": 0.182073,\n",
    "            \"Embarked_Q\": 0.039216,\n",
    "            \"Embarked_S\": 0.775910\n",
    "        }\n",
    "\n",
    "        self.std = {\n",
    "            \"Pclass\": 0.838250,\n",
    "            \"Age\": 14.526497,\n",
    "            \"SibSp\": 0.929783,\n",
    "            \"Parch\": 0.853289,\n",
    "            \"Fare\": 52.918930,\n",
    "            \"Sex_female\": 0.481921,\n",
    "            \"Sex_male\": 0.481921,\n",
    "            \"Embarked_C\": 0.386175,\n",
    "            \"Embarked_Q\": 0.194244,\n",
    "            \"Embarked_S\": 0.417274\n",
    "        }\n",
    "\n",
    "        self.data = self._load_data()\n",
    "        self.feature_size = len(self.data.columns) - 1\n",
    "\n",
    "    def _load_data(self):\n",
    "        df = pd.read_csv(self.file_path)\n",
    "        df = df.drop(columns=[\"PassengerId\", \"Name\", \"Ticket\", \"Cabin\"]) ##删除不用的列\n",
    "        df = df.dropna(subset=[\"Age\"])##删除Age有缺失的行\n",
    "        df = pd.get_dummies(df, columns=[\"Sex\", \"Embarked\"], dtype=int)##进行one-hot编码\n",
    "\n",
    "        ##进行数据的标准化\n",
    "        base_features = [\"Pclass\", \"Age\", \"SibSp\", \"Parch\", \"Fare\"]\n",
    "        for i in range(len(base_features)):\n",
    "            df[base_features[i]] = (df[base_features[i]] - self.mean[base_features[i]]) / self.std[base_features[i]]\n",
    "        return df\n",
    "\n",
    "    def __len__(self):\n",
    "        return len(self.data)\n",
    "\n",
    "    def __getitem__(self, idx):\n",
    "        features = self.data.drop(columns=[\"Survived\"]).iloc[idx].values\n",
    "        label = self.data[\"Survived\"].iloc[idx]\n",
    "        return torch.tensor(features, dtype=torch.float32), torch.tensor(label, dtype=torch.float32)"
   ]
  },
  {
   "cell_type": "code",
   "execution_count": 14,
   "id": "af07a859",
   "metadata": {},
   "outputs": [
    {
     "name": "stdout",
     "output_type": "stream",
     "text": [
      "23\n",
      "torch.Size([32, 10]) torch.Size([32])\n"
     ]
    }
   ],
   "source": [
    "from torch.utils.data import DataLoader\n",
    "\n",
    "dataset = TitanicDataset(r\"./data/titanic/train.csv\")\n",
    "dataloader = DataLoader(dataset, batch_size=32, shuffle=True)\n",
    "print(len(dataloader))\n",
    "for inputs, labels in dataloader:\n",
    "    print(inputs.shape, labels.shape)\n",
    "    break"
   ]
  },
  {
   "cell_type": "markdown",
   "id": "29a831a3",
   "metadata": {},
   "source": [
    "### 迭代器使用案例"
   ]
  },
  {
   "cell_type": "code",
   "execution_count": null,
   "id": "acfb7baf",
   "metadata": {},
   "outputs": [
    {
     "name": "stdout",
     "output_type": "stream",
     "text": [
      "1\n",
      "2\n",
      "3\n",
      "4\n",
      "5\n"
     ]
    }
   ],
   "source": [
    "class MyList:\n",
    "    def __init__(self, data):\n",
    "        self.data = data\n",
    "\n",
    "    def __getitem__(self, index):\n",
    "        return self.data[index]\n",
    "\n",
    "    def __len__(self):\n",
    "        return len(self.data)\n",
    "\n",
    "my_list = MyList([3, 2, 3, 4, 5])\n",
    "for item in my_list:\n",
    "    print(item)\n",
    "\n"
   ]
  }
 ],
 "metadata": {
  "kernelspec": {
   "display_name": "deeplearn",
   "language": "python",
   "name": "python3"
  },
  "language_info": {
   "codemirror_mode": {
    "name": "ipython",
    "version": 3
   },
   "file_extension": ".py",
   "mimetype": "text/x-python",
   "name": "python",
   "nbconvert_exporter": "python",
   "pygments_lexer": "ipython3",
   "version": "3.10.18"
  }
 },
 "nbformat": 4,
 "nbformat_minor": 5
}
