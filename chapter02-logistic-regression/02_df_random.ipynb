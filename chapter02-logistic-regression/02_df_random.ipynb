{
 "cells": [
  {
   "cell_type": "code",
   "execution_count": 4,
   "id": "0bdf987e",
   "metadata": {},
   "outputs": [
    {
     "name": "stdout",
     "output_type": "stream",
     "text": [
      "原始数据:\n",
      "     A    B\n",
      "0  数据1  标签1\n",
      "1  数据2  标签2\n",
      "2  数据3  标签3\n",
      "3  数据4  标签4\n",
      "4  数据5  标签5\n",
      "\n",
      "打乱并重置索引后:\n",
      "     A    B\n",
      "0  数据2  标签2\n",
      "1  数据5  标签5\n",
      "2  数据3  标签3\n",
      "3  数据1  标签1\n",
      "4  数据4  标签4\n"
     ]
    }
   ],
   "source": [
    "import pandas as pd\n",
    "\n",
    "# 原始数据\n",
    "data = {\n",
    "    \"A\": [\"数据1\", \"数据2\", \"数据3\", \"数据4\", \"数据5\"],\n",
    "    \"B\": [\"标签1\", \"标签2\", \"标签3\", \"标签4\", \"标签5\"]\n",
    "}\n",
    "df = pd.DataFrame(data)\n",
    "\n",
    "print(\"原始数据:\")\n",
    "print(df)\n",
    "\n",
    "# 随机打乱并重置索引\n",
    "df_shuffled = df.sample(frac=1, random_state=42).reset_index(drop=True)\n",
    "\n",
    "print(\"\\n打乱并重置索引后:\")\n",
    "print(df_shuffled)"
   ]
  }
 ],
 "metadata": {
  "kernelspec": {
   "display_name": "deeplearn",
   "language": "python",
   "name": "python3"
  },
  "language_info": {
   "codemirror_mode": {
    "name": "ipython",
    "version": 3
   },
   "file_extension": ".py",
   "mimetype": "text/x-python",
   "name": "python",
   "nbconvert_exporter": "python",
   "pygments_lexer": "ipython3",
   "version": "3.10.18"
  }
 },
 "nbformat": 4,
 "nbformat_minor": 5
}
