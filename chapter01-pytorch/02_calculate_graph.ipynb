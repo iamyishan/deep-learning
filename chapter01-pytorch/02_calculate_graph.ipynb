{
 "cells": [
  {
   "cell_type": "markdown",
   "id": "2a984bdc",
   "metadata": {},
   "source": [
    "### 计算图与自动求梯度\n",
    "在PyTorch里我们只需要定义前向的计算过程，PyTorch可以自动生成计算图，和自动求梯度。并且可以将Tensor的运算放到GPU上进行加速\n",
    "\n",
    "![image.png](../images/calculate_graph.png)\n"
   ]
  },
  {
   "cell_type": "markdown",
   "id": "46682ceb",
   "metadata": {},
   "source": [
    "我们在PyTorch里完成上边这个简单的例子。"
   ]
  },
  {
   "cell_type": "code",
   "execution_count": 1,
   "id": "97eb94d4",
   "metadata": {},
   "outputs": [
    {
     "name": "stdout",
     "output_type": "stream",
     "text": [
      "x grad: tensor(0.8571)\n",
      "y grad: tensor(1.1429)\n"
     ]
    }
   ],
   "source": [
    "import torch\n",
    "\n",
    "x = torch.tensor(1.0, requires_grad=True) #指定需要计算梯度\n",
    "y = torch.tensor(1.0, requires_grad=True) #指定需要计算梯度\n",
    "v = 3*x+4*y\n",
    "u = torch.square(v)\n",
    "z = torch.log(u)\n",
    "\n",
    "z.backward() #反向传播求梯度\n",
    "\n",
    "print(\"x grad:\", x.grad)\n",
    "print(\"y grad:\", y.grad)"
   ]
  },
  {
   "cell_type": "markdown",
   "id": "ae1f438b",
   "metadata": {},
   "source": [
    "仔细分析PyTorch的代码可以发现，我们定义了x，y需要计算梯度，然后定义了计算的流程。PyTorch内部会自动帮我们构建和维护计算图。我们只要调用结果z的反向传播方法，PyTorch内部会根据计算图反向传播，计算梯度。最终打印出的x和y在（1,1）点的梯度和我们手动计算的梯度值是完全一致的。\n",
    "\n",
    "利用PyTorch里的自动求梯度的能力，可以大大简化我们利用梯度下降方法对模型的训练。"
   ]
  }
 ],
 "metadata": {
  "kernelspec": {
   "display_name": "deeplearn",
   "language": "python",
   "name": "python3"
  },
  "language_info": {
   "codemirror_mode": {
    "name": "ipython",
    "version": 3
   },
   "file_extension": ".py",
   "mimetype": "text/x-python",
   "name": "python",
   "nbconvert_exporter": "python",
   "pygments_lexer": "ipython3",
   "version": "3.10.18"
  }
 },
 "nbformat": 4,
 "nbformat_minor": 5
}
